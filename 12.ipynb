{
 "cells": [
  {
   "cell_type": "code",
   "execution_count": null,
   "id": "ec2a61ce-749b-410a-9fe6-8444457c3173",
   "metadata": {},
   "outputs": [],
   "source": [
    "import torch\n",
    "import torch.nn as nn\n",
    "import torch.optim as optim\n",
    "from torchvision import datasets, transforms\n",
    "from torch.utils.data import DataLoader, Subset"
   ]
  },
  {
   "cell_type": "code",
   "execution_count": null,
   "id": "790c63a5-1e76-4d24-94aa-fd47bde9ac11",
   "metadata": {},
   "outputs": [],
   "source": [
    "# Device configuration (use GPU if available)\n",
    "device = torch.device(\"cuda\" if torch.cuda.is_available() else \"cpu\")\n",
    "# Data transformation\n",
    "transform = transforms.Compose([\n",
    "    transforms.ToTensor()\n",
    "])\n",
    "#  MNIST dataset\n",
    "train_dataset = datasets.MNIST(root=\"./data\", train=True, download=True, transform=transform)\n",
    "test_dataset = datasets.MNIST(root=\"./data\", train=False, download=True, transform=transform)\n",
    "# Use subsets for quick training\n",
    "train_subset = Subset(train_dataset, range(200))\n",
    "test_subset = Subset(test_dataset, range(50))\n",
    "# DataLoader\n",
    "train_loader = DataLoader(train_subset, batch_size=10, shuffle=True)\n",
    "test_loader = DataLoader(test_subset, batch_size=10, shuffle=False)"
   ]
  },
  {
   "cell_type": "code",
   "execution_count": null,
   "id": "9a52693a-1705-4fd9-b90a-caddc2506b18",
   "metadata": {},
   "outputs": [],
   "source": [
    "class AutoEncoder(nn.Module):\n",
    "    def _init_(self):\n",
    "        super(AutoEncoder, self)._init_()\n",
    "        self.encoder = nn.Sequential(\n",
    "            nn.Linear(28*28, 256),\n",
    "            nn.ReLU(inplace=True),\n",
    "            nn.Linear(256, 64),\n",
    "            nn.ReLU(inplace=True)  # Added activation after last encoder layer\n",
    "        )\n",
    "        self.decoder = nn.Sequential(\n",
    "            nn.Linear(64, 256),\n",
    "            nn.ReLU(inplace=True),\n",
    "            nn.Linear(256, 28*28),\n",
    "            nn.Sigmoid()\n",
    "        )\n",
    "\n",
    "    def forward(self, x):\n",
    "        x = self.encoder(x)\n",
    "        x = self.decoder(x)\n",
    "        return x"
   ]
  },
  {
   "cell_type": "code",
   "execution_count": null,
   "id": "a3da66a8-3672-4aec-ac5e-92fa2864f71d",
   "metadata": {},
   "outputs": [],
   "source": [
    "# Initialize model, optimizer, and loss function\n",
    "model = AutoEncoder().to(device)\n",
    "optimizer = optim.Adam(model.parameters(), lr=0.001)\n",
    "criterion = nn.MSELoss()\n",
    "def train_model(num_epochs):\n",
    "    for epoch in range(num_epochs):\n",
    "        model.train()\n",
    "        train_loss = 0.0\n",
    "\n",
    "        for data in train_loader:\n",
    "            img, _ = data\n",
    "            img = img.view(img.size(0), -1).to(device)  # Flatten and move to device\n",
    "            output = model(img)\n",
    "            loss = criterion(output, img)\n",
    "            optimizer.zero_grad()\n",
    "            loss.backward()\n",
    "            optimizer.step()\n",
    "            train_loss += loss.item()\n",
    "\n",
    "        avg_train_loss = train_loss / len(train_loader)\n",
    "        model.eval()\n",
    "        test_loss = 0.0\n",
    "        with torch.no_grad():\n",
    "            for data in test_loader:\n",
    "                img, _ = data\n",
    "                img = img.view(img.size(0), -1).to(device)\n",
    "                output = model(img)\n",
    "                loss = criterion(output, img)\n",
    "                test_loss += loss.item()\n",
    "\n",
    "        avg_test_loss = test_loss / len(test_loader)\n",
    "        print(f'Epoch {epoch+1}, Train Loss: {avg_train_loss:.4f}, Test Loss: {avg_test_loss:.4f}')\n",
    "\n",
    "\n",
    "train_model(10)"
   ]
  },
  {
   "cell_type": "code",
   "execution_count": null,
   "id": "f373a9e6-b3a8-4dfc-8378-405194a07c16",
   "metadata": {},
   "outputs": [],
   "source": []
  },
  {
   "cell_type": "code",
   "execution_count": 2,
   "id": "bf64ed1b-e9e9-48c8-918f-aee158909bc7",
   "metadata": {},
   "outputs": [],
   "source": [
    "import torch\n",
    "import torch.nn as nn\n",
    "import torch.optim as optim\n",
    "from torch.utils.data import DataLoader, Subset\n",
    "from torchvision import transforms, datasets"
   ]
  },
  {
   "cell_type": "code",
   "execution_count": 3,
   "id": "11a25659-fb39-479a-921d-b7cb5854024b",
   "metadata": {},
   "outputs": [],
   "source": [
    "transform = transforms.Compose([\n",
    "    transforms.ToTensor(),\n",
    "])\n",
    "\n",
    "train_dataset = datasets.MNIST(root=\"./data\", train=True, download=True, transform=transform)\n",
    "test_dataset = datasets.MNIST(root=\"./data\", train=False, download=True, transform=transform)\n",
    "\n",
    "train_subset = Subset(train_dataset, range(200))\n",
    "test_subset = Subset(test_dataset, range(50))\n",
    "\n",
    "train_loader = DataLoader(train_subset, batch_size=10, shuffle=True)\n",
    "test_loader = DataLoader(test_subset, batch_size=10, shuffle=False)"
   ]
  },
  {
   "cell_type": "code",
   "execution_count": 13,
   "id": "e403f908-7273-48d4-b4a9-bd67e2737a80",
   "metadata": {},
   "outputs": [],
   "source": [
    "class AutoEncoder(nn.Module):\n",
    "    def __init__(self):\n",
    "        super(AutoEncoder, self).__init__()\n",
    "        self.encoder = nn.Sequential(\n",
    "            nn.Linear(28*28, 256),\n",
    "            nn.ReLU(inplace=True),\n",
    "            nn.Linear(256, 64),\n",
    "            nn.ReLU(inplace=True),\n",
    "        )\n",
    "        self.decoder = nn.Sequential(\n",
    "            nn.Linear(64, 256),\n",
    "            nn.ReLU(inplace=True),\n",
    "            nn.Linear(256, 28*28),\n",
    "            nn.Sigmoid(),\n",
    "        )\n",
    "\n",
    "    def forward(self, x):\n",
    "        x = self.flatten(x)\n",
    "        x = self.encoder(x)\n",
    "        x = self.decoder(x)\n",
    "        return x"
   ]
  },
  {
   "cell_type": "code",
   "execution_count": 10,
   "id": "392ce261-b981-4372-876d-3897ff9b8421",
   "metadata": {},
   "outputs": [],
   "source": [
    "model = AutoEncoder()\n",
    "optimizer = optim.Adam(model.parameters(), lr=0.01)\n",
    "Loss = nn.MSELoss()\n",
    "epochs = 10"
   ]
  },
  {
   "cell_type": "code",
   "execution_count": 14,
   "id": "b9493d0d-0a42-4ffd-8590-b5e7b71b0b1b",
   "metadata": {},
   "outputs": [
    {
     "name": "stdout",
     "output_type": "stream",
     "text": [
      "Epoch : 1 | Train Loss : 0.1055 | Test Loss : 0.0698\n",
      "Epoch : 2 | Train Loss : 0.0651 | Test Loss : 0.0609\n",
      "Epoch : 3 | Train Loss : 0.0577 | Test Loss : 0.0556\n",
      "Epoch : 4 | Train Loss : 0.0523 | Test Loss : 0.0511\n",
      "Epoch : 5 | Train Loss : 0.0464 | Test Loss : 0.0485\n",
      "Epoch : 6 | Train Loss : 0.0412 | Test Loss : 0.0453\n",
      "Epoch : 7 | Train Loss : 0.0384 | Test Loss : 0.0433\n",
      "Epoch : 8 | Train Loss : 0.0362 | Test Loss : 0.0444\n",
      "Epoch : 9 | Train Loss : 0.0332 | Test Loss : 0.0415\n",
      "Epoch : 10 | Train Loss : 0.0314 | Test Loss : 0.0425\n"
     ]
    }
   ],
   "source": [
    "for epoch in range(epochs):\n",
    "    model.train()\n",
    "    train_loss = 0\n",
    "    for data in train_loader:\n",
    "        img,_ = data\n",
    "        img = img.view(img.size(0), -1)\n",
    "        output = model(img)\n",
    "        loss = Loss(output, img)\n",
    "        optimizer.zero_grad()\n",
    "        loss.backward()\n",
    "        optimizer.step()\n",
    "        train_loss += loss.item()\n",
    "    avg_loss = train_loss / len(train_loader)\n",
    "    model.eval()\n",
    "    test_loss = 0\n",
    "    with torch.inference_mode():\n",
    "        for data in test_loader:\n",
    "            img,_ = data\n",
    "            img = img.view(img.size(0), -1)\n",
    "            output = model(img)\n",
    "            loss = Loss(output, img)\n",
    "            test_loss += loss.item()\n",
    "    avg_test = test_loss/len(test_loader)\n",
    "\n",
    "    print(f\"Epoch : {epoch+1} | Train Loss : {avg_loss:.4f} | Test Loss : {avg_test:.4f}\")"
   ]
  },
  {
   "cell_type": "code",
   "execution_count": null,
   "id": "7a9fe511-67c0-495b-bfcb-24a0cc6dfb78",
   "metadata": {},
   "outputs": [],
   "source": []
  }
 ],
 "metadata": {
  "kernelspec": {
   "display_name": "Python 3 (ipykernel)",
   "language": "python",
   "name": "python3"
  },
  "language_info": {
   "codemirror_mode": {
    "name": "ipython",
    "version": 3
   },
   "file_extension": ".py",
   "mimetype": "text/x-python",
   "name": "python",
   "nbconvert_exporter": "python",
   "pygments_lexer": "ipython3",
   "version": "3.12.7"
  }
 },
 "nbformat": 4,
 "nbformat_minor": 5
}
