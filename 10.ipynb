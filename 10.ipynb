{
 "cells": [
  {
   "cell_type": "code",
   "execution_count": null,
   "id": "6e410fd8-06e0-42d9-bc54-6bf72c614b1f",
   "metadata": {},
   "outputs": [],
   "source": [
    "import torch\n",
    "import torch.nn as nn\n",
    "import torch.optim as optim"
   ]
  },
  {
   "cell_type": "code",
   "execution_count": null,
   "id": "5d52cf00-a0ef-4537-b36e-07cb28527b21",
   "metadata": {},
   "outputs": [],
   "source": [
    "text = \"hello world, this is a simple text generation using LSTMs.\"\n",
    "\n",
    "# character vocabulary\n",
    "chars = sorted(set(text))  # Unique characters\n",
    "char_to_idx = {c: i for i, c in enumerate(chars)}\n",
    "idx_to_char = {i: c for i, c in enumerate(chars)}\n",
    "\n",
    "# Convert text into sequences\n",
    "seq_length = 10\n",
    "data_X, data_Y = [], []\n",
    "for i in range(len(text) - seq_length):\n",
    "    input_seq = text[i:i+seq_length]\n",
    "    target_char = text[i+seq_length]\n",
    "    data_X.append([char_to_idx[c] for c in input_seq])\n",
    "    data_Y.append(char_to_idx[target_char])\n",
    "\n",
    "# Convert to PyTorch tensors\n",
    "X_train = torch.tensor(data_X, dtype=torch.long)\n",
    "y_train = torch.tensor(data_Y, dtype=torch.long)"
   ]
  },
  {
   "cell_type": "code",
   "execution_count": null,
   "id": "251c6689-72c1-4f58-b657-fba0ab49a05c",
   "metadata": {},
   "outputs": [],
   "source": [
    "class TextLSTM(nn.Module):\n",
    "    def _init_(self, vocab_size, embed_size, hidden_size):\n",
    "        super(TextLSTM, self)._init_()\n",
    "        self.embedding = nn.Embedding(vocab_size, embed_size)\n",
    "        self.lstm = nn.LSTM(embed_size, hidden_size, batch_first=True)\n",
    "        self.fc = nn.Linear(hidden_size, vocab_size)\n",
    "\n",
    "    def forward(self, x):\n",
    "        x = self.embedding(x)\n",
    "        lstm_out, _ = self.lstm(x)\n",
    "        out = self.fc(lstm_out[:, -1, :])  # Take last output for prediction\n",
    "        return out"
   ]
  },
  {
   "cell_type": "code",
   "execution_count": null,
   "id": "21f2c5c6-bd7a-43d9-b789-3004bc869a09",
   "metadata": {},
   "outputs": [],
   "source": [
    "vocab_size = len(chars)\n",
    "embed_size = 16\n",
    "hidden_size = 128\n",
    "model = TextLSTM(vocab_size, embed_size, hidden_size)\n",
    "criterion = nn.CrossEntropyLoss()\n",
    "optimizer = optim.Adam(model.parameters(), lr=0.01)\n",
    "\n",
    "num_epochs = 50\n",
    "for epoch in range(num_epochs):\n",
    "    optimizer.zero_grad()\n",
    "    outputs = model(X_train)\n",
    "    loss = criterion(outputs, y_train)\n",
    "    loss.backward()\n",
    "    optimizer.step()"
   ]
  },
  {
   "cell_type": "code",
   "execution_count": null,
   "id": "511690ff-5893-47c1-b407-df51b4748e78",
   "metadata": {},
   "outputs": [],
   "source": [
    "def generate_text(start_seq, length=50):\n",
    "    model.eval()\n",
    "    input_seq = [char_to_idx[c] for c in start_seq]\n",
    "    input_tensor = torch.tensor([input_seq], dtype=torch.long)\n",
    "    generated_text = start_seq\n",
    "    for _ in range(length):\n",
    "        with torch.no_grad():\n",
    "            output = model(input_tensor)\n",
    "            predicted_idx = torch.argmax(output, dim=1).item()\n",
    "            predicted_char = idx_to_char[predicted_idx]\n",
    "            generated_text += predicted_char\n",
    "            input_tensor = torch.tensor([[*input_seq[1:], predicted_idx]], dtype=torch.long)\n",
    "            input_seq = input_seq[1:] + [predicted_idx]\n",
    "    return generated_text\n",
    "\n",
    "\n",
    "print(\"\\nGenerated Text:\")\n",
    "print(generate_text(\"hello wor\", 50))"
   ]
  },
  {
   "cell_type": "code",
   "execution_count": null,
   "id": "8dec7fec-7ded-4952-ad89-fa69c65da566",
   "metadata": {},
   "outputs": [],
   "source": []
  },
  {
   "cell_type": "code",
   "execution_count": 1,
   "id": "e4cf1314-a1ab-4997-9008-8114e6878da1",
   "metadata": {},
   "outputs": [],
   "source": [
    "import torch\n",
    "import torch.nn as nn\n",
    "import torch.optim as optim"
   ]
  },
  {
   "cell_type": "code",
   "execution_count": null,
   "id": "32ea6ea1-b3bc-4629-832a-d879f070cf35",
   "metadata": {},
   "outputs": [],
   "source": [
    "text = \"hello world, this is a simple text generation using LSTMs.\"\n",
    "\n",
    "char = sorted(set(text))\n",
    "char_to_idx = {c: i for i,c in enumerate(char)}\n",
    "idx_to_char = {i: c for i,c in enumerate(char)}\n",
    "\n",
    "seq = 10\n",
    "X, y = [],[]\n",
    "for i in range(len(text) - seq):\n",
    "    input_seq = text[i:i+seq]\n",
    "    target = text[i+seq]\n",
    "    "
   ]
  }
 ],
 "metadata": {
  "kernelspec": {
   "display_name": "Python 3 (ipykernel)",
   "language": "python",
   "name": "python3"
  },
  "language_info": {
   "codemirror_mode": {
    "name": "ipython",
    "version": 3
   },
   "file_extension": ".py",
   "mimetype": "text/x-python",
   "name": "python",
   "nbconvert_exporter": "python",
   "pygments_lexer": "ipython3",
   "version": "3.12.7"
  }
 },
 "nbformat": 4,
 "nbformat_minor": 5
}
