{
 "cells": [
  {
   "cell_type": "code",
   "execution_count": null,
   "id": "33c5a9e5-75e2-40b8-9244-8f3bd609c5c5",
   "metadata": {},
   "outputs": [],
   "source": [
    "import tensorflow as tf\n",
    "from tensorflow.keras import layers, models, datasets\n",
    "\n",
    "#  Load MNIST\n",
    "(x_train, _), (x_test, _) = datasets.mnist.load_data()\n",
    "x_train = x_train[..., None]/255.0\n",
    "x_test = x_test[..., None]/255.0\n",
    "\n",
    "#  Make blurry inputs (simulate \"bad images\")\n",
    "x_train_blur = tf.image.resize(x_train, (14,14))\n",
    "x_train_blur = tf.image.resize(x_train_blur, (28,28))\n",
    "\n",
    "x_test_blur = tf.image.resize(x_test, (14,14))\n",
    "x_test_blur = tf.image.resize(x_test_blur, (28,28))\n",
    "\n",
    "# Simple U-Net\n",
    "def simple_unet(input_shape):\n",
    "    inputs = layers.Input(shape=input_shape)\n",
    "    x = layers.Conv2D(32, 3, activation='relu', padding='same')(inputs)\n",
    "    x = layers.MaxPooling2D()(x)\n",
    "    x = layers.Conv2D(64, 3, activation='relu', padding='same')(x)\n",
    "    x = layers.Conv2DTranspose(32, 3, strides=2, padding='same', activation='relu')(x)\n",
    "    outputs = layers.Conv2D(1, 1, activation='sigmoid')(x)\n",
    "    return models.Model(inputs, outputs)\n",
    "\n",
    "model = simple_unet((28,28,1))\n",
    "model.compile(optimizer='adam', loss='binary_crossentropy', metrics=['accuracy'])\n",
    "\n",
    "#  Train the U-Net\n",
    "model.fit(x_train_blur, x_train, epochs=5, batch_size=64, validation_split=0.1)\n",
    "\n",
    "\n",
    "predicted = model.predict(x_test_blur[:5])\n",
    "\n",
    "\n",
    "import matplotlib.pyplot as plt\n",
    "for i in range(5):\n",
    "    plt.figure(figsize=(8,2))\n",
    "    plt.subplot(1,3,1)\n",
    "    plt.title(\"Blurry Input\")\n",
    "    plt.imshow(x_test_blur[i].squeeze(), cmap='gray')\n",
    "    plt.axis('off')\n",
    "    plt.subplot(1,3,2)\n",
    "    plt.title(\"Ground Truth\")\n",
    "    plt.imshow(x_test[i].squeeze(), cmap='gray')\n",
    "    plt.axis('off')\n",
    "    plt.subplot(1,3,3)\n",
    "    plt.title(\"Predicted Mask\")\n",
    "    plt.imshow(predicted[i].squeeze(), cmap='gray')\n",
    "    plt.axis('off')\n",
    "    plt.show()"
   ]
  }
 ],
 "metadata": {
  "kernelspec": {
   "display_name": "Python 3 (ipykernel)",
   "language": "python",
   "name": "python3"
  },
  "language_info": {
   "codemirror_mode": {
    "name": "ipython",
    "version": 3
   },
   "file_extension": ".py",
   "mimetype": "text/x-python",
   "name": "python",
   "nbconvert_exporter": "python",
   "pygments_lexer": "ipython3",
   "version": "3.12.7"
  }
 },
 "nbformat": 4,
 "nbformat_minor": 5
}
