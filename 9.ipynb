{
 "cells": [
  {
   "cell_type": "code",
   "execution_count": null,
   "id": "645fc6de-4595-4d0a-ada7-fdb2a716d1b6",
   "metadata": {},
   "outputs": [],
   "source": [
    "import torch\n",
    "import torch.nn as nn\n",
    "import torch.optim as optim\n",
    "\n",
    "\n",
    "class SimpleRNNModel(nn.Module):\n",
    "    def _init_(self, input_size, hidden_size, output_size):\n",
    "        super(SimpleRNNModel, self)._init_()\n",
    "        self.rnn = nn.RNN(input_size, hidden_size, batch_first=True)\n",
    "        self.fc = nn.Linear(hidden_size, output_size)\n",
    "        \n",
    "    def forward(self, x):\n",
    "        out, _ = self.rnn(x)           # RNN output: (batch, seq_len, hidden)\n",
    "        out = out[:, -1, :]            # Take the output of the last time step\n",
    "        out = self.fc(out)             # Dense layer\n",
    "        return out\n",
    "\n",
    "# Hyperparameters\n",
    "input_size = 8      # Features per time step\n",
    "hidden_size = 32    # Number of RNN hidden units\n",
    "output_size = 1     # Binary classification (use >1 for multi-class)\n",
    "seq_len = 10\n",
    "batch_size = 16\n",
    "\n",
    "# Generate random input and target data\n",
    "X = torch.randn(batch_size, seq_len, input_size)  # Shape: (batch, seq_len, input_size)\n",
    "y = torch.randint(0, 2, (batch_size, 1)).float()   # Binary targets\n",
    "print(X)\n",
    "print(y)\n",
    "\n",
    "model = SimpleRNNModel(input_size, hidden_size, output_size)\n",
    "criterion = nn.BCEWithLogitsLoss()  \n",
    "optimizer = optim.Adam(model.parameters(), lr=0.001)\n",
    "\n",
    "for epoch in range(10):\n",
    "    outputs = model(X)\n",
    "    loss = criterion(outputs, y)\n",
    "\n",
    "    optimizer.zero_grad()\n",
    "    loss.backward()\n",
    "    optimizer.step()\n",
    "\n",
    "    print(f\"Epoch [{epoch+1}/10], Loss: {loss.item():.4f}\")"
   ]
  },
  {
   "cell_type": "code",
   "execution_count": 2,
   "id": "a5b42d47-330f-4c76-8f14-bbb4310b413a",
   "metadata": {},
   "outputs": [],
   "source": [
    "import torch\n",
    "import torch.nn as nn\n",
    "import torch.optim as optim"
   ]
  },
  {
   "cell_type": "code",
   "execution_count": 3,
   "id": "47162a42-2d1a-4deb-8328-1ec455c0ab5f",
   "metadata": {},
   "outputs": [],
   "source": [
    "class RNN(nn.Module):\n",
    "    def __init__(self, inputs, hidden, output):\n",
    "        super(RNN, self).__init__()\n",
    "        self.rnn = nn.RNN(inputs,hidden,batch_first=True)\n",
    "        self.fc = nn.Linear(hidden,output)\n",
    "    def forward(self,x):\n",
    "        out,_ = self.rnn(x)\n",
    "        out = self.fc(out[:,-1,:])\n",
    "        return out"
   ]
  },
  {
   "cell_type": "code",
   "execution_count": 4,
   "id": "00d48d98-1457-4141-a679-4d8124886fa3",
   "metadata": {},
   "outputs": [],
   "source": [
    "inputs = 8\n",
    "hidden = 32\n",
    "output = 1\n",
    "seq = 10\n",
    "batch_size = 16\n",
    "\n",
    "X = torch.randn(batch_size,seq, inputs)\n",
    "y = torch.randint(0,2, (batch_size, 1)).float()\n",
    "\n",
    "model = RNN(inputs, hidden, output)\n",
    "optimizer = optim.Adam(model.parameters(), lr=0.01)\n",
    "Loss = nn.BCEWithLogitsLoss()"
   ]
  },
  {
   "cell_type": "code",
   "execution_count": 5,
   "id": "3ea08b2b-8154-407c-945d-19ce529201d5",
   "metadata": {},
   "outputs": [
    {
     "name": "stdout",
     "output_type": "stream",
     "text": [
      "Epoch : 0 | Loss : 0.6985\n",
      "Epoch : 1 | Loss : 0.6314\n",
      "Epoch : 2 | Loss : 0.5725\n",
      "Epoch : 3 | Loss : 0.5092\n",
      "Epoch : 4 | Loss : 0.4304\n",
      "Epoch : 5 | Loss : 0.3377\n",
      "Epoch : 6 | Loss : 0.2554\n",
      "Epoch : 7 | Loss : 0.1908\n",
      "Epoch : 8 | Loss : 0.1219\n",
      "Epoch : 9 | Loss : 0.0755\n"
     ]
    }
   ],
   "source": [
    "for epoch in range(10):\n",
    "    output = model(X)\n",
    "    loss = Loss(output, y)\n",
    "    optimizer.zero_grad()\n",
    "    loss.backward()\n",
    "    optimizer.step()\n",
    "\n",
    "    print(f\"Epoch : {epoch} | Loss : {loss.item():.4f}\")"
   ]
  },
  {
   "cell_type": "code",
   "execution_count": null,
   "id": "98405f80-ae99-4759-b013-5163de55466a",
   "metadata": {},
   "outputs": [],
   "source": []
  }
 ],
 "metadata": {
  "kernelspec": {
   "display_name": "Python 3 (ipykernel)",
   "language": "python",
   "name": "python3"
  },
  "language_info": {
   "codemirror_mode": {
    "name": "ipython",
    "version": 3
   },
   "file_extension": ".py",
   "mimetype": "text/x-python",
   "name": "python",
   "nbconvert_exporter": "python",
   "pygments_lexer": "ipython3",
   "version": "3.12.7"
  }
 },
 "nbformat": 4,
 "nbformat_minor": 5
}
